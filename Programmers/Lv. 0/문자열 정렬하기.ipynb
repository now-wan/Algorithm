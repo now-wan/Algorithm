{
 "cells": [
  {
   "cell_type": "markdown",
   "metadata": {},
   "source": [
    "### 문제 설명\n",
    "문자열 my_string이 매개변수로 주어질 때, my_string 안에 있는 숫자만 골라 오름차순 정렬한 리스트를 return 하도록 solution 함수를 작성해보세요.\n",
    "\n",
    "### 제한사항\n",
    "- 1 ≤ my_string의 길이 ≤ 100\n",
    "- my_string에는 숫자가 한 개 이상 포함되어 있습니다.\n",
    "- my_string은 영어 소문자 또는 0부터 9까지의 숫자로 이루어져 있습니다. - - -\n",
    "### 입출력 예\n",
    "<table class=\"table\">\n",
    "        <thead><tr>\n",
    "<th>my_string</th>\n",
    "<th>result</th>\n",
    "</tr>\n",
    "</thead>\n",
    "        <tbody><tr>\n",
    "<td>\"hi12392\"</td>\n",
    "<td>[1, 2, 2, 3, 9]</td>\n",
    "</tr>\n",
    "<tr>\n",
    "<td>\"p2o4i8gj2\"</td>\n",
    "<td>[2, 2, 4, 8]</td>\n",
    "</tr>\n",
    "<tr>\n",
    "<td>\"abcde0\"</td>\n",
    "<td>[0]</td>\n",
    "</tr>\n",
    "</tbody>\n",
    "      </table>"
   ]
  },
  {
   "cell_type": "code",
   "execution_count": 40,
   "metadata": {},
   "outputs": [],
   "source": [
    "import re\n",
    "\n",
    "def solution(my_string):\n",
    "    numbers = re.findall('\\d', my_string)\n",
    "    answer = map(int, numbers)\n",
    "    return sorted(answer)"
   ]
  },
  {
   "cell_type": "code",
   "execution_count": 41,
   "metadata": {},
   "outputs": [
    {
     "name": "stdout",
     "output_type": "stream",
     "text": [
      "[1, 2, 2, 3, 9]\n",
      "[2, 2, 4, 8]\n",
      "[0]\n"
     ]
    }
   ],
   "source": [
    "print(solution('hi12392'))\n",
    "print(solution(\"p2o4i8gj2\"))\n",
    "print(solution(\"abcde0\"))"
   ]
  }
 ],
 "metadata": {
  "kernelspec": {
   "display_name": "Python 3.9.6 64-bit",
   "language": "python",
   "name": "python3"
  },
  "language_info": {
   "codemirror_mode": {
    "name": "ipython",
    "version": 3
   },
   "file_extension": ".py",
   "mimetype": "text/x-python",
   "name": "python",
   "nbconvert_exporter": "python",
   "pygments_lexer": "ipython3",
   "version": "3.9.6"
  },
  "orig_nbformat": 4,
  "vscode": {
   "interpreter": {
    "hash": "31f2aee4e71d21fbe5cf8b01ff0e069b9275f58929596ceb00d14d90e3e16cd6"
   }
  }
 },
 "nbformat": 4,
 "nbformat_minor": 2
}
