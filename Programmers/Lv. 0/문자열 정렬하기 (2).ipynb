{
 "cells": [
  {
   "cell_type": "markdown",
   "metadata": {},
   "source": [
    "### 문제 설명\n",
    "영어 대소문자로 이루어진 문자열 my_string이 매개변수로 주어질 때, my_string을 모두 소문자로 바꾸고 알파벳 순서대로 정렬한 문자열을 return 하도록 solution 함수를 완성해보세요.\n",
    "\n",
    "### 제한사항\n",
    "- 0 < my_string 길이 < 100\n",
    "### 입출력 예\n",
    "<table class=\"table\">\n",
    "        <thead><tr>\n",
    "<th>my_string</th>\n",
    "<th>result</th>\n",
    "</tr>\n",
    "</thead>\n",
    "        <tbody><tr>\n",
    "<td>\"Bcad\"</td>\n",
    "<td>\"abcd\"</td>\n",
    "</tr>\n",
    "<tr>\n",
    "<td>\"heLLo\"</td>\n",
    "<td>\"ehllo\"</td>\n",
    "</tr>\n",
    "<tr>\n",
    "<td>\"Python\"</td>\n",
    "<td>\"hnopty\"</td>\n",
    "</tr>\n",
    "</tbody>\n",
    "      </table>"
   ]
  },
  {
   "cell_type": "code",
   "execution_count": 23,
   "metadata": {},
   "outputs": [],
   "source": [
    "def solution(my_string):\n",
    "    answer = my_string.lower()\n",
    "    return ''.join(sorted(answer))"
   ]
  },
  {
   "cell_type": "code",
   "execution_count": 24,
   "metadata": {},
   "outputs": [
    {
     "name": "stdout",
     "output_type": "stream",
     "text": [
      "abcd\n",
      "ehllo\n",
      "hnopty\n"
     ]
    }
   ],
   "source": [
    "print(solution('BCad'))\n",
    "print(solution('heLLo'))\n",
    "print(solution('Python'))"
   ]
  },
  {
   "cell_type": "code",
   "execution_count": null,
   "metadata": {},
   "outputs": [],
   "source": []
  }
 ],
 "metadata": {
  "kernelspec": {
   "display_name": "Python 3.9.6 64-bit",
   "language": "python",
   "name": "python3"
  },
  "language_info": {
   "codemirror_mode": {
    "name": "ipython",
    "version": 3
   },
   "file_extension": ".py",
   "mimetype": "text/x-python",
   "name": "python",
   "nbconvert_exporter": "python",
   "pygments_lexer": "ipython3",
   "version": "3.9.6"
  },
  "orig_nbformat": 4,
  "vscode": {
   "interpreter": {
    "hash": "31f2aee4e71d21fbe5cf8b01ff0e069b9275f58929596ceb00d14d90e3e16cd6"
   }
  }
 },
 "nbformat": 4,
 "nbformat_minor": 2
}
