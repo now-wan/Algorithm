{
 "cells": [
  {
   "cell_type": "markdown",
   "metadata": {},
   "source": [
    "### 문제 설명\n",
    "외과의사 머쓱이는 응급실에 온 환자의 응급도를 기준으로 진료 순서를 정하려고 합니다. 정수 배열 emergency가 매개변수로 주어질 때 응급도가 높은 순서대로 진료 순서를 정한 배열을 return하도록 solution 함수를 완성해주세요.\n",
    "\n",
    "### 제한사항\n",
    "- 중복된 원소는 없습니다.\n",
    "- 1 ≤ emergency의 길이 ≤ 10\n",
    "- 1 ≤ emergency의 원소 ≤ 100\n",
    "### 입출력 예\n",
    "<table class=\"table\">\n",
    "        <thead><tr>\n",
    "<th>emergency</th>\n",
    "<th>result</th>\n",
    "</tr>\n",
    "</thead>\n",
    "        <tbody><tr>\n",
    "<td>[3, 76, 24]</td>\n",
    "<td>[3, 1, 2]</td>\n",
    "</tr>\n",
    "<tr>\n",
    "<td>[1, 2, 3, 4, 5, 6, 7]</td>\n",
    "<td>[7, 6, 5, 4, 3, 2, 1]</td>\n",
    "</tr>\n",
    "<tr>\n",
    "<td>[30, 10, 23, 6, 100]</td>\n",
    "<td>[2, 4, 3, 5, 1]</td>\n",
    "</tr>\n",
    "</tbody>\n",
    "      </table>"
   ]
  },
  {
   "cell_type": "code",
   "execution_count": 14,
   "metadata": {},
   "outputs": [],
   "source": [
    "def solution(emergency):\n",
    "    answer = []\n",
    "    slist = sorted(emergency, reverse=True)\n",
    "    for i in emergency:\n",
    "        answer.append(slist.index(i)+1)\n",
    "    return answer"
   ]
  },
  {
   "cell_type": "code",
   "execution_count": 16,
   "metadata": {},
   "outputs": [
    {
     "name": "stdout",
     "output_type": "stream",
     "text": [
      "[3, 1, 2]\n",
      "[7, 6, 5, 4, 3, 2, 1]\n",
      "[2, 4, 3, 5, 1]\n"
     ]
    }
   ],
   "source": [
    "print(solution([3,76,24]))\n",
    "print(solution([1,2,3,4,5,6,7]))\n",
    "print(solution([30,10,23,6,100]))"
   ]
  }
 ],
 "metadata": {
  "kernelspec": {
   "display_name": "Python 3.9.6 64-bit",
   "language": "python",
   "name": "python3"
  },
  "language_info": {
   "codemirror_mode": {
    "name": "ipython",
    "version": 3
   },
   "file_extension": ".py",
   "mimetype": "text/x-python",
   "name": "python",
   "nbconvert_exporter": "python",
   "pygments_lexer": "ipython3",
   "version": "3.9.6"
  },
  "orig_nbformat": 4,
  "vscode": {
   "interpreter": {
    "hash": "31f2aee4e71d21fbe5cf8b01ff0e069b9275f58929596ceb00d14d90e3e16cd6"
   }
  }
 },
 "nbformat": 4,
 "nbformat_minor": 2
}
