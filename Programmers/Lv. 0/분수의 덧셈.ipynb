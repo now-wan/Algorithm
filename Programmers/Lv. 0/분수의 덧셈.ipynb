{
 "cells": [
  {
   "cell_type": "markdown",
   "metadata": {},
   "source": [
    "### 문제 설명\n",
    "첫 번째 분수의 분자와 분모를 뜻하는 denum1, num1, 두 번째 분수의 분자와 분모를 뜻하는 denum2, num2가 매개변수로 주어집니다. 두 분수를 더한 값을 기약 분수로 나타냈을 때 분자와 분모를 순서대로 담은 배열을 return 하도록 solution 함수를 완성해보세요.\n",
    "\n",
    "### 제한사항\n",
    "- 0 <denum1, num1, denum2, num2 < 1,000\n",
    "### 입출력 예\n",
    "<table class=\"table\">\n",
    "        <thead><tr>\n",
    "<th>denum1</th>\n",
    "<th>num1</th>\n",
    "<th>denum2</th>\n",
    "<th>num2</th>\n",
    "<th>result</th>\n",
    "</tr>\n",
    "</thead>\n",
    "        <tbody><tr>\n",
    "<td>1</td>\n",
    "<td>2</td>\n",
    "<td>3</td>\n",
    "<td>4</td>\n",
    "<td>[5, 4]</td>\n",
    "</tr>\n",
    "<tr>\n",
    "<td>9</td>\n",
    "<td>2</td>\n",
    "<td>1</td>\n",
    "<td>3</td>\n",
    "<td>[29, 6]</td>\n",
    "</tr>\n",
    "</tbody>\n",
    "      </table>"
   ]
  },
  {
   "cell_type": "code",
   "execution_count": 1,
   "metadata": {},
   "outputs": [],
   "source": [
    "def gcd(array):\n",
    "    a = array[0]\n",
    "    b = array[1]\n",
    "    r = a % b\n",
    "\n",
    "    while r != 0:\n",
    "        a = b\n",
    "        b = r\n",
    "        r = a % b\n",
    "    return b\n",
    "def solution(denum1, num1, denum2, num2):\n",
    "    answer = []\n",
    "    nums = [num1, num2]\n",
    "    nums.sort()\n",
    "    gcd1 = gcd(nums)\n",
    "    lcm = (num1 * num2) // gcd1\n",
    "    m1 = denum1 * (lcm//num1)\n",
    "    m2 = denum2 * (lcm//num2)\n",
    "    value = m1 + m2\n",
    "    array = []\n",
    "    array.append(value)\n",
    "    array.append(lcm)\n",
    "    gcd2 = gcd(array)\n",
    "    answer.append(array[0] // gcd2)\n",
    "    answer.append(array[1] // gcd2)\n",
    "    return answer    \n"
   ]
  },
  {
   "cell_type": "code",
   "execution_count": 2,
   "metadata": {},
   "outputs": [],
   "source": [
    "import math\n",
    "\n",
    "def solution(denum1, num1, denum2, num2):\n",
    "    denum = denum1 * num2 + denum2 * num1\n",
    "    num = num1 * num2\n",
    "    gcd = math.gcd(denum, num)\n",
    "    return [denum//gcd, num//gcd]"
   ]
  },
  {
   "cell_type": "code",
   "execution_count": 3,
   "metadata": {},
   "outputs": [
    {
     "name": "stdout",
     "output_type": "stream",
     "text": [
      "[5, 6]\n",
      "[29, 6]\n"
     ]
    }
   ],
   "source": [
    "print(solution(1, 12, 3, 4))\n",
    "print(solution(9, 2, 1, 3))"
   ]
  }
 ],
 "metadata": {
  "kernelspec": {
   "display_name": "Python 3.9.6 64-bit",
   "language": "python",
   "name": "python3"
  },
  "language_info": {
   "codemirror_mode": {
    "name": "ipython",
    "version": 3
   },
   "file_extension": ".py",
   "mimetype": "text/x-python",
   "name": "python",
   "nbconvert_exporter": "python",
   "pygments_lexer": "ipython3",
   "version": "3.9.6"
  },
  "orig_nbformat": 4,
  "vscode": {
   "interpreter": {
    "hash": "31f2aee4e71d21fbe5cf8b01ff0e069b9275f58929596ceb00d14d90e3e16cd6"
   }
  }
 },
 "nbformat": 4,
 "nbformat_minor": 2
}
