{
 "cells": [
  {
   "cell_type": "markdown",
   "metadata": {},
   "source": [
    "### 문제 설명\n",
    "군 전략가 머쓱이는 전쟁 중 적군이 다음과 같은 암호 체계를 사용한다는 것을 알아냈습니다.\n",
    "\n",
    "암호화된 문자열 cipher를 주고받습니다.\n",
    "그 문자열에서 code의 배수 번째 글자만 진짜 암호입니다.\n",
    "문자열 cipher와 정수 code가 매개변수로 주어질 때 해독된 암호 문자열을 return하도록 solution 함수를 완성해주세요.\n",
    "\n",
    "### 제한사항\n",
    "- 1 ≤ cipher의 길이 ≤ 1,000\n",
    "- 1 ≤ code ≤ cipher의 길이\n",
    "- cipher는 소문자와 공백으로만 구성되어 있습니다.\n",
    "- 공백도 하나의 문자로 취급합니다.\n",
    "### 입출력 예\n",
    "<table class=\"table\">\n",
    "        <thead><tr>\n",
    "<th>cipher</th>\n",
    "<th>code</th>\n",
    "<th>result</th>\n",
    "</tr>\n",
    "</thead>\n",
    "        <tbody><tr>\n",
    "<td>\"dfjardstddetckdaccccdegk\"</td>\n",
    "<td>4</td>\n",
    "<td>\"attack\"</td>\n",
    "</tr>\n",
    "<tr>\n",
    "<td>\"pfqallllabwaoclk\"</td>\n",
    "<td>2</td>\n",
    "<td>\"fallback\"</td>\n",
    "</tr>\n",
    "</tbody>\n",
    "      </table>"
   ]
  },
  {
   "cell_type": "code",
   "execution_count": null,
   "metadata": {},
   "outputs": [],
   "source": [
    "def solution(cipher, code):\n",
    "    answer = ''\n",
    "    return answer"
   ]
  }
 ],
 "metadata": {
  "kernelspec": {
   "display_name": "Python 3.9.6 64-bit",
   "language": "python",
   "name": "python3"
  },
  "language_info": {
   "name": "python",
   "version": "3.9.6"
  },
  "orig_nbformat": 4,
  "vscode": {
   "interpreter": {
    "hash": "31f2aee4e71d21fbe5cf8b01ff0e069b9275f58929596ceb00d14d90e3e16cd6"
   }
  }
 },
 "nbformat": 4,
 "nbformat_minor": 2
}
