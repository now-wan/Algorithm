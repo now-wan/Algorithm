{
 "cells": [
  {
   "cell_type": "markdown",
   "metadata": {},
   "source": [
    "### 문제 설명\n",
    "사분면은 한 평면을 x축과 y축을 기준으로 나눈 네 부분입니다. 사분면은 아래와 같이 1부터 4까지 번호를매깁니다.\n",
    "\n",
    "- x 좌표와 y 좌표가 모두 양수이면 제1사분면에 속합니다.\n",
    "- x 좌표가 음수, y 좌표가 양수이면 제2사분면에 속합니다.\n",
    "- x 좌표와 y 좌표가 모두 음수이면 제3사분면에 속합니다.\n",
    "- x 좌표가 양수, y 좌표가 음수이면 제4사분면에 속합니다.\n",
    "- x 좌표 (x, y)를 차례대로 담은 정수 배열 dot이 매개변수로 주어집니다. 좌표 dot이 사분면 중 어디에 속하는지 1, 2, 3, 4 중 하나를 return 하도록 solution 함수를 완성해주세요.\n",
    "\n",
    "### 제한사항\n",
    "- dot의 길이 = 2\n",
    "- dot[0]은 x좌표를, dot[1]은 y좌표를 나타냅니다\n",
    "- -500 ≤ dot의 원소 ≤ 500\n",
    "- dot의 원소는 0이 아닙니다.\n",
    "### 입출력 예\n",
    "<table class=\"table\">\n",
    "        <thead><tr>\n",
    "<th>dot</th>\n",
    "<th>result</th>\n",
    "</tr>\n",
    "</thead>\n",
    "        <tbody><tr>\n",
    "<td>[2, 4]</td>\n",
    "<td>1</td>\n",
    "</tr>\n",
    "<tr>\n",
    "<td>[-7, 9]</td>\n",
    "<td>2</td>\n",
    "</tr>\n",
    "</tbody>\n",
    "      </table>"
   ]
  },
  {
   "cell_type": "code",
   "execution_count": 2,
   "metadata": {},
   "outputs": [],
   "source": [
    "def solution(dot):\n",
    "    if dot[0] < 0:\n",
    "        if dot[1] < 0:\n",
    "            answer = 3\n",
    "        else: answer = 2\n",
    "    else: \n",
    "        if dot[1] < 0:\n",
    "            answer = 4\n",
    "        else: answer = 1\n",
    "    return answer"
   ]
  },
  {
   "cell_type": "code",
   "execution_count": 3,
   "metadata": {},
   "outputs": [
    {
     "name": "stdout",
     "output_type": "stream",
     "text": [
      "1\n",
      "2\n"
     ]
    }
   ],
   "source": [
    "print(solution([2, 4]))\n",
    "print(solution([-7, 9]))"
   ]
  }
 ],
 "metadata": {
  "kernelspec": {
   "display_name": "Python 3.9.6 64-bit",
   "language": "python",
   "name": "python3"
  },
  "language_info": {
   "codemirror_mode": {
    "name": "ipython",
    "version": 3
   },
   "file_extension": ".py",
   "mimetype": "text/x-python",
   "name": "python",
   "nbconvert_exporter": "python",
   "pygments_lexer": "ipython3",
   "version": "3.9.6"
  },
  "orig_nbformat": 4,
  "vscode": {
   "interpreter": {
    "hash": "31f2aee4e71d21fbe5cf8b01ff0e069b9275f58929596ceb00d14d90e3e16cd6"
   }
  }
 },
 "nbformat": 4,
 "nbformat_minor": 2
}
