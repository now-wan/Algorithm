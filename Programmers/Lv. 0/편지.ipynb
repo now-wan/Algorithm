{
 "cells": [
  {
   "cell_type": "markdown",
   "metadata": {},
   "source": [
    "### 문제 설명\n",
    "머쓱이는 할머니께 생신 축하 편지를 쓰려고 합니다. 할머니가 보시기 편하도록 글자 한 자 한 자를 가로 2cm 크기로 적으려고 하며, 편지를 가로로만 적을 때, 축하 문구 message를 적기 위해 필요한 편지지의 최소 가로길이를 return 하도록 solution 함수를 완성해주세요.\n",
    "### 제한사항\n",
    "- 공백도 하나의 문자로 취급합니다.\n",
    "- 1 ≤ message의 길이 ≤ 50\n",
    "- 편지지의 여백은 생각하지 않습니다.\n",
    "- message는 영문 알파벳 대소문자, ‘!’, ‘~’ 또는 공백으로만 이루어져 있습니다.\n",
    "### 입출력 예\n",
    "<table class=\"table\">\n",
    "        <thead><tr>\n",
    "<th>message</th>\n",
    "<th>result</th>\n",
    "</tr>\n",
    "</thead>\n",
    "        <tbody><tr>\n",
    "<td>\"happy birthday!\"</td>\n",
    "<td>30</td>\n",
    "</tr>\n",
    "<tr>\n",
    "<td>\"I love you~\"</td>\n",
    "<td>22</td>\n",
    "</tr>\n",
    "</tbody>\n",
    "      </table>"
   ]
  },
  {
   "cell_type": "code",
   "execution_count": 1,
   "metadata": {},
   "outputs": [],
   "source": [
    "def solution(message):\n",
    "    answer = 2 * len(message)\n",
    "    return answer"
   ]
  },
  {
   "cell_type": "code",
   "execution_count": 2,
   "metadata": {},
   "outputs": [
    {
     "name": "stdout",
     "output_type": "stream",
     "text": [
      "30\n",
      "22\n"
     ]
    }
   ],
   "source": [
    "print(solution(\"happy birthday!\"))\n",
    "print(solution(\"I love you~\"))"
   ]
  }
 ],
 "metadata": {
  "kernelspec": {
   "display_name": "Python 3.9.6 64-bit",
   "language": "python",
   "name": "python3"
  },
  "language_info": {
   "codemirror_mode": {
    "name": "ipython",
    "version": 3
   },
   "file_extension": ".py",
   "mimetype": "text/x-python",
   "name": "python",
   "nbconvert_exporter": "python",
   "pygments_lexer": "ipython3",
   "version": "3.9.6"
  },
  "orig_nbformat": 4,
  "vscode": {
   "interpreter": {
    "hash": "31f2aee4e71d21fbe5cf8b01ff0e069b9275f58929596ceb00d14d90e3e16cd6"
   }
  }
 },
 "nbformat": 4,
 "nbformat_minor": 2
}
