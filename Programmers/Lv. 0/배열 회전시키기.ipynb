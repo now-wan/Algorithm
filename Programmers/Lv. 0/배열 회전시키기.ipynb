{
 "cells": [
  {
   "cell_type": "markdown",
   "metadata": {},
   "source": [
    "### 문제 설명\n",
    "정수가 담긴 배열 numbers와 문자열 direction가 매개변수로 주어집니다. 배열 numbers의 원소를 direction방향으로 한 칸씩 회전시킨 배열을 return하도록 solution 함수를 완성해주세요.\n",
    "\n",
    "### 제한사항\n",
    "- 3 ≤ numbers의 길이 ≤ 20\n",
    "- direction은 \"left\" 와 \"right\" 둘 중 하나입니다.\n",
    "### 입출력 예\n",
    "<table class=\"table\">\n",
    "        <thead><tr>\n",
    "<th>numbers</th>\n",
    "<th>direction</th>\n",
    "<th>result</th>\n",
    "</tr>\n",
    "</thead>\n",
    "        <tbody><tr>\n",
    "<td>[1, 2, 3]</td>\n",
    "<td>\"right\"</td>\n",
    "<td>[3, 1, 2]</td>\n",
    "</tr>\n",
    "<tr>\n",
    "<td>[4, 455, 6, 4, -1, 45, 6]</td>\n",
    "<td>\"left\"</td>\n",
    "<td>[455, 6, 4, -1, 45, 6, 4]</td>\n",
    "</tr>\n",
    "</tbody>\n",
    "      </table>"
   ]
  },
  {
   "cell_type": "code",
   "execution_count": 23,
   "metadata": {},
   "outputs": [],
   "source": [
    "def solution(numbers, direction):\n",
    "    if direction == 'right':\n",
    "        answer = numbers[:-1]\n",
    "        answer.insert(0, numbers[-1])\n",
    "    else:\n",
    "        answer = numbers[1:]\n",
    "        answer.append(numbers[0])\n",
    "    return answer"
   ]
  },
  {
   "cell_type": "code",
   "execution_count": 21,
   "metadata": {},
   "outputs": [],
   "source": [
    "def solution(numbers, direction):\n",
    "    if direction == 'right':\n",
    "        return [numbers[-1]] + numbers[:-1]\n",
    "    else: return numbers[1:] + [numbers[0]]"
   ]
  },
  {
   "cell_type": "code",
   "execution_count": 24,
   "metadata": {},
   "outputs": [
    {
     "name": "stdout",
     "output_type": "stream",
     "text": [
      "[3, 1, 2]\n",
      "[455, 6, 4, -1, 45, 6, 4]\n"
     ]
    }
   ],
   "source": [
    "print(solution([1, 2, 3], 'right'))\n",
    "print(solution([4, 455, 6, 4, -1, 45, 6], 'left'))"
   ]
  }
 ],
 "metadata": {
  "kernelspec": {
   "display_name": "Python 3.9.6 64-bit",
   "language": "python",
   "name": "python3"
  },
  "language_info": {
   "codemirror_mode": {
    "name": "ipython",
    "version": 3
   },
   "file_extension": ".py",
   "mimetype": "text/x-python",
   "name": "python",
   "nbconvert_exporter": "python",
   "pygments_lexer": "ipython3",
   "version": "3.9.6"
  },
  "orig_nbformat": 4,
  "vscode": {
   "interpreter": {
    "hash": "31f2aee4e71d21fbe5cf8b01ff0e069b9275f58929596ceb00d14d90e3e16cd6"
   }
  }
 },
 "nbformat": 4,
 "nbformat_minor": 2
}
