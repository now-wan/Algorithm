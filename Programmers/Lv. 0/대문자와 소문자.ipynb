{
 "cells": [
  {
   "cell_type": "markdown",
   "metadata": {},
   "source": [
    "### 문제 설명\n",
    "문자열 my_string이 매개변수로 주어질 때, 대문자는 소문자로 소문자는 대문자로 변환한 문자열을 return하도록 solution 함수를 완성해주세요.\n",
    "\n",
    "### 제한사항\n",
    "- 1 ≤ my_string의 길이 ≤ 1,000\n",
    "- my_string은 영어 대문자와 소문자로만 구성되어 있습니다.\n",
    "\n",
    "### 입출력 예  \n",
    "<table class=\"table\">\n",
    "        <thead><tr>\n",
    "<th>my_string</th>\n",
    "<th>result</th>\n",
    "</tr>\n",
    "</thead>\n",
    "        <tbody><tr>\n",
    "<td>\"cccCCC\"</td>\n",
    "<td>\"CCCccc\"</td>\n",
    "</tr>\n",
    "<tr>\n",
    "<td>\"abCdEfghIJ\"</td>\n",
    "<td>\"ABcDeFGHij\"</td>\n",
    "</tr>\n",
    "</tbody>\n",
    "      </table>"
   ]
  },
  {
   "cell_type": "code",
   "execution_count": 1,
   "metadata": {},
   "outputs": [],
   "source": [
    "def solution(my_string):\n",
    "    answer = ''\n",
    "    for string in my_string:\n",
    "        if string.isupper() == True:\n",
    "            string = string.lower()\n",
    "        else: string = string.upper()\n",
    "        answer += string\n",
    "    return answer"
   ]
  },
  {
   "cell_type": "code",
   "execution_count": 2,
   "metadata": {},
   "outputs": [
    {
     "name": "stdout",
     "output_type": "stream",
     "text": [
      "CCCccc\n",
      "ABcDeFGHij\n"
     ]
    }
   ],
   "source": [
    "print(solution('cccCCC'))\n",
    "print(solution('abCdEfghIJ'))"
   ]
  }
 ],
 "metadata": {
  "kernelspec": {
   "display_name": "Python 3.9.6 64-bit",
   "language": "python",
   "name": "python3"
  },
  "language_info": {
   "codemirror_mode": {
    "name": "ipython",
    "version": 3
   },
   "file_extension": ".py",
   "mimetype": "text/x-python",
   "name": "python",
   "nbconvert_exporter": "python",
   "pygments_lexer": "ipython3",
   "version": "3.9.6"
  },
  "orig_nbformat": 4,
  "vscode": {
   "interpreter": {
    "hash": "31f2aee4e71d21fbe5cf8b01ff0e069b9275f58929596ceb00d14d90e3e16cd6"
   }
  }
 },
 "nbformat": 4,
 "nbformat_minor": 2
}
