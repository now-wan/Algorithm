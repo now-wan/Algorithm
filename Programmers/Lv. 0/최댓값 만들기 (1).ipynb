{
 "cells": [
  {
   "cell_type": "markdown",
   "metadata": {},
   "source": [
    "### 문제 설명\n",
    "정수 배열 numbers가 매개변수로 주어집니다. numbers의 원소 중 두 개를 곱해 만들 수 있는 최댓값을 return하도록 solution 함수를 완성해주세요.\n",
    "### 제한사항\n",
    "- 0 ≤ numbers의 원소 ≤ 10,000\n",
    "- 2 ≤ numbers의 길이 ≤ 100\n",
    "### 입출력 예\n",
    "<table class=\"table\">\n",
    "        <thead><tr>\n",
    "<th>numbers</th>\n",
    "<th>result</th>\n",
    "</tr>\n",
    "</thead>\n",
    "        <tbody><tr>\n",
    "<td>[1, 2, 3, 4, 5]</td>\n",
    "<td>20</td>\n",
    "</tr>\n",
    "<tr>\n",
    "<td>[0, 31, 24, 10, 1, 9]</td>\n",
    "<td>744</td>\n",
    "</tr>\n",
    "</tbody>\n",
    "      </table>"
   ]
  },
  {
   "cell_type": "code",
   "execution_count": 1,
   "metadata": {},
   "outputs": [],
   "source": [
    "def solution(numbers):\n",
    "    max1 = 0\n",
    "    max2 = 0\n",
    "    for number in numbers:\n",
    "        if number > max1:\n",
    "            max2 = max1\n",
    "            max1 = number\n",
    "        elif number > max2:\n",
    "            max2 = number\n",
    "    answer = max1 * max2     \n",
    "    return answer"
   ]
  },
  {
   "cell_type": "code",
   "execution_count": 2,
   "metadata": {},
   "outputs": [],
   "source": [
    "def solution(numbers):\n",
    "    numbers.sort(reverse=True)\n",
    "    return numbers[0]*numbers[1]"
   ]
  },
  {
   "cell_type": "code",
   "execution_count": 3,
   "metadata": {},
   "outputs": [
    {
     "name": "stdout",
     "output_type": "stream",
     "text": [
      "20\n",
      "744\n"
     ]
    }
   ],
   "source": [
    "print(solution([1, 2, 3, 4, 5]))\n",
    "print(solution([0, 31, 24, 10, 1, 9]))"
   ]
  }
 ],
 "metadata": {
  "kernelspec": {
   "display_name": "Python 3.9.6 64-bit",
   "language": "python",
   "name": "python3"
  },
  "language_info": {
   "codemirror_mode": {
    "name": "ipython",
    "version": 3
   },
   "file_extension": ".py",
   "mimetype": "text/x-python",
   "name": "python",
   "nbconvert_exporter": "python",
   "pygments_lexer": "ipython3",
   "version": "3.9.6"
  },
  "orig_nbformat": 4,
  "vscode": {
   "interpreter": {
    "hash": "31f2aee4e71d21fbe5cf8b01ff0e069b9275f58929596ceb00d14d90e3e16cd6"
   }
  }
 },
 "nbformat": 4,
 "nbformat_minor": 2
}
