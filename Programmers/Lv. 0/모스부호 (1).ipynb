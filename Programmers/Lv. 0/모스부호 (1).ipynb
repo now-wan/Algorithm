{
 "cells": [
  {
   "cell_type": "markdown",
   "metadata": {},
   "source": [
    "### 문제 설명\n",
    "머쓱이는 친구에게 모스부호를 이용한 편지를 받았습니다. 그냥은 읽을 수 없어 이를 해독하는 프로그램을 만들려고 합니다. 문자열 letter가 매개변수로 주어질 때, letter를 영어 소문자로 바꾼 문자열을 return 하도록 solution 함수를 완성해보세요.\n",
    "모스부호는 다음과 같습니다.    \n",
    "<code>morse = { \n",
    "    '.-':'a','-...':'b','-.-.':'c','-..':'d','.':'e','..-.':'f',\n",
    "    '--.':'g','....':'h','..':'i','.---':'j','-.-':'k','.-..':'l',\n",
    "    '--':'m','-.':'n','---':'o','.--.':'p','--.-':'q','.-.':'r',\n",
    "    '...':'s','-':'t','..-':'u','...-':'v','.--':'w','-..-':'x',\n",
    "    '-.--':'y','--..':'z'\n",
    "}\n",
    "</code>\n",
    "\n",
    "### 제한사항\n",
    "- 1 ≤ letter의 길이 ≤ 1,000\n",
    "- return값은 소문자입니다.\n",
    "- letter의 모스부호는 공백으로 나누어져 있습니다.\n",
    "- letter에 공백은 연속으로 두 개 이상 존재하지 않습니다.\n",
    "- 해독할 수 없는 편지는 주어지지 않습니다.\n",
    "- 편지의 시작과 끝에는 공백이 없습니다.\n",
    "### 입출력 예\n",
    "<table class=\"table\">\n",
    "        <thead><tr>\n",
    "<th>letter</th>\n",
    "<th>result</th>\n",
    "</tr>\n",
    "</thead>\n",
    "        <tbody><tr>\n",
    "<td>\".... . .-.. .-.. ---\"</td>\n",
    "<td>\"hello\"</td>\n",
    "</tr>\n",
    "<tr>\n",
    "<td>\".--. -.-- - .... --- -.\"</td>\n",
    "<td>\"python\"</td>\n",
    "</tr>\n",
    "</tbody>\n",
    "      </table>"
   ]
  },
  {
   "cell_type": "code",
   "execution_count": null,
   "metadata": {},
   "outputs": [],
   "source": [
    "def solution(letter):\n",
    "    \n",
    "    answer = ''\n",
    "    return answer"
   ]
  }
 ],
 "metadata": {
  "language_info": {
   "name": "python"
  },
  "orig_nbformat": 4
 },
 "nbformat": 4,
 "nbformat_minor": 2
}
