{
 "cells": [
  {
   "cell_type": "markdown",
   "metadata": {},
   "source": [
    "### 문제 설명\n",
    "최빈값은 주어진 값 중에서 가장 자주 나오는 값을 의미합니다. 정수 배열 array가 매개변수로 주어질 때, 최빈값을 return 하도록 solution 함수를 완성해보세요. 최빈값이 여러 개면 -1을 return 합니다.\n",
    "\n",
    "### 제한사항\n",
    "- 0 < array의 길이 < 100\n",
    "- -1000 < array의 원소 < 1000\n",
    "### 입출력 예\n",
    "<table class=\"table\">\n",
    "        <thead><tr>\n",
    "<th>array</th>\n",
    "<th>result</th>\n",
    "</tr>\n",
    "</thead>\n",
    "        <tbody><tr>\n",
    "<td>[1, 2, 3, 3, 3, 4]</td>\n",
    "<td>3</td>\n",
    "</tr>\n",
    "<tr>\n",
    "<td>[1, 1, 2, 2]</td>\n",
    "<td>-1</td>\n",
    "</tr>\n",
    "<tr>\n",
    "<td>[1]</td>\n",
    "<td>1</td>\n",
    "</tr>\n",
    "</tbody>\n",
    "      </table>"
   ]
  },
  {
   "cell_type": "code",
   "execution_count": 104,
   "metadata": {},
   "outputs": [],
   "source": [
    "import numpy as np\n",
    "\n",
    "def solution(array):\n",
    "    uarr = np.unique(array).tolist()\n",
    "    nums = []\n",
    "    for value in uarr:\n",
    "        num = array.count(value)\n",
    "        nums.append(num)\n",
    "    max_num = np.max(nums)\n",
    "    if nums.count(max_num) == 1:\n",
    "        answer = uarr[np.argmax(nums)]\n",
    "    else: answer = -1\n",
    "    return answer"
   ]
  },
  {
   "cell_type": "code",
   "execution_count": 130,
   "metadata": {},
   "outputs": [],
   "source": [
    "from collections import Counter\n",
    "\n",
    "def solution(array):\n",
    "    count = Counter(array).most_common(2)\n",
    "    if len(count) == 1:\n",
    "        answer = count[0][0]\n",
    "    elif count[0][1] == count[1][1]:\n",
    "        answer = -1\n",
    "    else: answer = count[0][0]\n",
    "    \n",
    "    return answer"
   ]
  },
  {
   "cell_type": "code",
   "execution_count": 131,
   "metadata": {},
   "outputs": [
    {
     "name": "stdout",
     "output_type": "stream",
     "text": [
      "4\n",
      "1\n"
     ]
    }
   ],
   "source": [
    "print(solution([1,2,3,3,4,4,4]))\n",
    "print(solution([1]))"
   ]
  }
 ],
 "metadata": {
  "kernelspec": {
   "display_name": "Python 3.9.6 64-bit",
   "language": "python",
   "name": "python3"
  },
  "language_info": {
   "codemirror_mode": {
    "name": "ipython",
    "version": 3
   },
   "file_extension": ".py",
   "mimetype": "text/x-python",
   "name": "python",
   "nbconvert_exporter": "python",
   "pygments_lexer": "ipython3",
   "version": "3.9.6"
  },
  "orig_nbformat": 4,
  "vscode": {
   "interpreter": {
    "hash": "31f2aee4e71d21fbe5cf8b01ff0e069b9275f58929596ceb00d14d90e3e16cd6"
   }
  }
 },
 "nbformat": 4,
 "nbformat_minor": 2
}
