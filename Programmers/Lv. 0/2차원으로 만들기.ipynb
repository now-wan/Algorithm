{
 "cells": [
  {
   "cell_type": "markdown",
   "metadata": {},
   "source": [
    "### 문제 설명\n",
    "정수 배열 num_list와 정수 n이 매개변수로 주어집니다. num_list를 다음 설명과 같이 2차원 배열로 바꿔 return하도록 solution 함수를 완성해주세요.\n",
    "\n",
    "num_list가 [1, 2, 3, 4, 5, 6, 7, 8] 로 길이가 8이고 n이 2이므로 num_list를 2 * 4 배열로 다음과 같이 변경합니다. 2차원으로 바꿀 때에는 num_list의 원소들을 앞에서부터 n개씩 나눠 2차원 배열로 변경합니다.\n",
    "\n",
    "<table class=\"table\">\n",
    "        <thead><tr>\n",
    "<th>num_list</th>\n",
    "<th>n</th>\n",
    "<th>result</th>\n",
    "</tr>\n",
    "</thead>\n",
    "        <tbody><tr>\n",
    "<td>[1, 2, 3, 4, 5, 6, 7, 8]</td>\n",
    "<td>2</td>\n",
    "<td>[[1, 2], [3, 4], [5, 6], [7, 8]]</td>\n",
    "</tr>\n",
    "</tbody>\n",
    "      </table>\n",
    "\n",
    "### 제한사항\n",
    "- num_list의 길이는 n의 배 수개입니다.\n",
    "- 0 ≤ num_list의 길이 ≤ 1000\n",
    "- 2 ≤ n < num_list의 길이\n",
    "### 입출력 예\n",
    "<table class=\"table\">\n",
    "        <thead><tr>\n",
    "<th>num_list</th>\n",
    "<th>n</th>\n",
    "<th>result</th>\n",
    "</tr>\n",
    "</thead>\n",
    "        <tbody><tr>\n",
    "<td>[1, 2, 3, 4, 5, 6, 7, 8]</td>\n",
    "<td>2</td>\n",
    "<td>[[1, 2], [3, 4], [5, 6], [7, 8]]</td>\n",
    "</tr>\n",
    "<tr>\n",
    "<td>[100, 95, 2, 4, 5, 6, 18, 33, 948]</td>\n",
    "<td>3</td>\n",
    "<td>[[100, 95, 2], [4, 5, 6], [18, 33, 948]]</td>\n",
    "</tr>\n",
    "</tbody>\n",
    "      </table>"
   ]
  },
  {
   "cell_type": "code",
   "execution_count": null,
   "metadata": {},
   "outputs": [],
   "source": [
    "def solution(num_list, n):\n",
    "    answer = [[]]\n",
    "    return answer"
   ]
  }
 ],
 "metadata": {
  "language_info": {
   "name": "python"
  },
  "orig_nbformat": 4
 },
 "nbformat": 4,
 "nbformat_minor": 2
}
