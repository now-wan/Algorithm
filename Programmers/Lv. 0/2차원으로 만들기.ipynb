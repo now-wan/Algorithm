{
 "cells": [
  {
   "cell_type": "markdown",
   "metadata": {},
   "source": [
    "### 문제 설명\n",
    "정수 배열 num_list와 정수 n이 매개변수로 주어집니다. num_list를 다음 설명과 같이 2차원 배열로 바꿔 return하도록 solution 함수를 완성해주세요.\n",
    "\n",
    "num_list가 [1, 2, 3, 4, 5, 6, 7, 8] 로 길이가 8이고 n이 2이므로 num_list를 2 * 4 배열로 다음과 같이 변경합니다. 2차원으로 바꿀 때에는 num_list의 원소들을 앞에서부터 n개씩 나눠 2차원 배열로 변경합니다.\n",
    "\n",
    "<table class=\"table\">\n",
    "        <thead><tr>\n",
    "<th>num_list</th>\n",
    "<th>n</th>\n",
    "<th>result</th>\n",
    "</tr>\n",
    "</thead>\n",
    "        <tbody><tr>\n",
    "<td>[1, 2, 3, 4, 5, 6, 7, 8]</td>\n",
    "<td>2</td>\n",
    "<td>[[1, 2], [3, 4], [5, 6], [7, 8]]</td>\n",
    "</tr>\n",
    "</tbody>\n",
    "      </table>\n",
    "\n",
    "### 제한사항\n",
    "- num_list의 길이는 n의 배 수개입니다.\n",
    "- 0 ≤ num_list의 길이 ≤ 1000\n",
    "- 2 ≤ n < num_list의 길이\n",
    "### 입출력 예\n",
    "<table class=\"table\">\n",
    "        <thead><tr>\n",
    "<th>num_list</th>\n",
    "<th>n</th>\n",
    "<th>result</th>\n",
    "</tr>\n",
    "</thead>\n",
    "        <tbody><tr>\n",
    "<td>[1, 2, 3, 4, 5, 6, 7, 8]</td>\n",
    "<td>2</td>\n",
    "<td>[[1, 2], [3, 4], [5, 6], [7, 8]]</td>\n",
    "</tr>\n",
    "<tr>\n",
    "<td>[100, 95, 2, 4, 5, 6, 18, 33, 948]</td>\n",
    "<td>3</td>\n",
    "<td>[[100, 95, 2], [4, 5, 6], [18, 33, 948]]</td>\n",
    "</tr>\n",
    "</tbody>\n",
    "      </table>"
   ]
  },
  {
   "cell_type": "code",
   "execution_count": 16,
   "metadata": {},
   "outputs": [],
   "source": [
    "def solution(num_list, n):\n",
    "    answer = []\n",
    "    for i in range(0, len(num_list), n):\n",
    "        answer.append(num_list[i:i+n])\n",
    "    return answer"
   ]
  },
  {
   "cell_type": "code",
   "execution_count": 17,
   "metadata": {},
   "outputs": [
    {
     "name": "stdout",
     "output_type": "stream",
     "text": [
      "[[1, 2], [3, 4], [5, 6], [7, 8]]\n",
      "[[100, 95, 2], [4, 5, 6], [18, 33, 948]]\n"
     ]
    }
   ],
   "source": [
    "print(solution([1,2,3,4,5,6,7,8], 2))\n",
    "print(solution([100,95,2,4,5,6,18,33,948], 3))"
   ]
  }
 ],
 "metadata": {
  "kernelspec": {
   "display_name": "Python 3.9.6 64-bit",
   "language": "python",
   "name": "python3"
  },
  "language_info": {
   "codemirror_mode": {
    "name": "ipython",
    "version": 3
   },
   "file_extension": ".py",
   "mimetype": "text/x-python",
   "name": "python",
   "nbconvert_exporter": "python",
   "pygments_lexer": "ipython3",
   "version": "3.9.6"
  },
  "orig_nbformat": 4,
  "vscode": {
   "interpreter": {
    "hash": "31f2aee4e71d21fbe5cf8b01ff0e069b9275f58929596ceb00d14d90e3e16cd6"
   }
  }
 },
 "nbformat": 4,
 "nbformat_minor": 2
}
