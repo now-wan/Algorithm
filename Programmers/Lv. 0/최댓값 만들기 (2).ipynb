{
 "cells": [
  {
   "cell_type": "markdown",
   "metadata": {},
   "source": [
    "### 문제 설명\n",
    "정수 배열 numbers가 매개변수로 주어집니다. numbers의 원소 중 두 개를 곱해 만들 수 있는 최댓값을 return하도록 solution 함수를 완성해주세요.\n",
    "\n",
    "### 제한사항\n",
    "- -10,000 ≤ numbers의 원소 ≤ 10,000\n",
    "- 2 ≤ numbers 의 길이 ≤ 100\n",
    "### 입출력 예\n",
    "<table class=\"table\">\n",
    "        <thead><tr>\n",
    "<th>numbers</th>\n",
    "<th>result</th>\n",
    "</tr>\n",
    "</thead>\n",
    "        <tbody><tr>\n",
    "<td>[1, 2, -3, 4, -5]</td>\n",
    "<td>15</td>\n",
    "</tr>\n",
    "<tr>\n",
    "<td>[0, -31, 24, 10, 1, 9]</td>\n",
    "<td>240</td>\n",
    "</tr>\n",
    "<tr>\n",
    "<td>[10, 20, 30, 5, 5, 20, 5]</td>\n",
    "<td>600</td>\n",
    "</tr>\n",
    "</tbody>\n",
    "      </table>"
   ]
  },
  {
   "cell_type": "code",
   "execution_count": null,
   "metadata": {},
   "outputs": [],
   "source": [
    "def solution(numbers):\n",
    "    answer = 0\n",
    "    return answer"
   ]
  }
 ],
 "metadata": {
  "language_info": {
   "name": "python"
  },
  "orig_nbformat": 4
 },
 "nbformat": 4,
 "nbformat_minor": 2
}
