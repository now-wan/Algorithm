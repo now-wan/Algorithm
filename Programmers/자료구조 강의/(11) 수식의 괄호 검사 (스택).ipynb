{
 "cells": [
  {
   "cell_type": "markdown",
   "metadata": {},
   "source": [
    "### 문제 설명\n",
    "소괄호: ( )    \n",
    "중괄호: { }    \n",
    "대괄호: [ ]    \n",
    "를 포함할 수 있는 수식을 표현한 문자열 expr 이 인자로 주어질 때, 이 수식의 괄호가 올바르게 여닫혀 있는지를 판단하는 함수 solution() 을 완성하세요. 이 함수는 수식의 괄호가 유효하면 True 를, 그렇지 않으면 False 를 리턴합니다.    \n",
    "\n",
    "스택을 활용하여 수식 내의 괄호 여닫음의 유효성을 검사하는 알고리즘에 대해서는 동영상 강의 내용을 참고하세요."
   ]
  },
  {
   "cell_type": "code",
   "execution_count": 33,
   "metadata": {},
   "outputs": [],
   "source": [
    "class ArrayStack:\n",
    "\n",
    "    def __init__(self):\n",
    "        self.data = []\n",
    "\n",
    "    def size(self):\n",
    "        return len(self.data)\n",
    "\n",
    "    def isEmpty(self):\n",
    "        return self.size() == 0\n",
    "\n",
    "    def push(self, item):\n",
    "        self.data.append(item)\n",
    "\n",
    "    def pop(self):\n",
    "        return self.data.pop()\n",
    "\n",
    "    def peek(self):\n",
    "        return self.data[-1]\n",
    "\n",
    "\n",
    "def solution(expr):\n",
    "    match = {\n",
    "        ')': '(',\n",
    "        '}': '{',\n",
    "        ']': '['\n",
    "    }\n",
    "    S = ArrayStack()\n",
    "    for c in expr:\n",
    "        if c in '({[':\n",
    "            S.push(c)\n",
    "        elif c in match:\n",
    "            if S.isEmpty():\n",
    "                return False\n",
    "            else:\n",
    "                t = S.pop()\n",
    "                if t != match[c]:\n",
    "                    return False\n",
    "    return S.isEmpty()"
   ]
  },
  {
   "cell_type": "code",
   "execution_count": 34,
   "metadata": {},
   "outputs": [
    {
     "data": {
      "text/plain": [
       "False"
      ]
     },
     "execution_count": 34,
     "metadata": {},
     "output_type": "execute_result"
    }
   ],
   "source": [
    "solution('(((')"
   ]
  }
 ],
 "metadata": {
  "kernelspec": {
   "display_name": "Python 3.9.6 64-bit",
   "language": "python",
   "name": "python3"
  },
  "language_info": {
   "codemirror_mode": {
    "name": "ipython",
    "version": 3
   },
   "file_extension": ".py",
   "mimetype": "text/x-python",
   "name": "python",
   "nbconvert_exporter": "python",
   "pygments_lexer": "ipython3",
   "version": "3.9.6"
  },
  "orig_nbformat": 4,
  "vscode": {
   "interpreter": {
    "hash": "31f2aee4e71d21fbe5cf8b01ff0e069b9275f58929596ceb00d14d90e3e16cd6"
   }
  }
 },
 "nbformat": 4,
 "nbformat_minor": 2
}
