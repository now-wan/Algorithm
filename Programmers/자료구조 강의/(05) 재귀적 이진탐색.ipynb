{
 "cells": [
  {
   "cell_type": "markdown",
   "metadata": {},
   "source": [
    "### 문제 설명\n",
    "리스트 L 과, 그 안에서 찾으려 하는 원소 x 가 인자로 주어지고, 또한 탐색의 대상이 되는 리스트 내에서의 범위 인덱스가 l 부터 u 까지로 (인자로) 정해질 때, x 와 같은 값을 가지는 원소의 인덱스를 리턴하는 함수 solution() 을 완성하세요. 만약 리스트 L 안에 x 와 같은 값을 가지는 원소가 존재하지 않는 경우에는 -1 을 리턴합니다. 리스트 L 은 자연수 원소들로 이루어져 있으며, 크기 순으로 정렬되어 있다고 가정합니다. 또한, 동일한 원소는 두 번 이상 나타나지 않습니다.\n",
    "    \n",
    "인덱스 범위를 나타내는 l 과 u 가 인자로 주어지는 이유는, 이 함수를 재귀적인 방법으로 구현하기 위함입니다. 빈 칸에 알맞은 내용을 채워서 재귀 함수인 solution() 을 완성하세요.\n",
    "    \n",
    "예를 들어,    \n",
    "L = [2, 3, 5, 6, 9, 11, 15]    \n",
    "x = 6    \n",
    "l = 0    \n",
    "u = 6    \n",
    "의 인자들이 주어지면, L[3] == 6 이므로 3 을 리턴해야 합니다.\n",
    "\n",
    "또 다른 예로,    \n",
    "L = [2, 5, 7, 9, 11]    \n",
    "x = 4    \n",
    "l = 0    \n",
    "u = 4    \n",
    "로 주어지면, 리스트 L 내에 4 의 원소가 존재하지 않으므로 -1 을 리턴해야 합니다.\n",
    "\n",
    "2021년 9월 5일, 아래 질문에 의하여 테스트 케이스의 미비점이 드러났고, 보완하기 위하여 테스트 케이스 하나 (정확성 테스트 케이스 5번) 가 추가되었습니다."
   ]
  },
  {
   "cell_type": "code",
   "execution_count": 24,
   "metadata": {},
   "outputs": [],
   "source": [
    "def solution(L, x, l, u):\n",
    "    if l > u:\n",
    "        return -1\n",
    "    mid = (l + u) // 2\n",
    "    if x == L[mid]:\n",
    "        return mid\n",
    "    elif x < L[mid]:\n",
    "        return solution(L, x, l, mid-1)\n",
    "\n",
    "    else:\n",
    "        return solution(L, x, mid+1, u)\n"
   ]
  },
  {
   "cell_type": "code",
   "execution_count": 25,
   "metadata": {},
   "outputs": [
    {
     "name": "stdout",
     "output_type": "stream",
     "text": [
      "-1\n"
     ]
    }
   ],
   "source": [
    "print(solution([2,3,4,5,6], 1, 0, 4))"
   ]
  },
  {
   "cell_type": "code",
   "execution_count": 26,
   "metadata": {},
   "outputs": [
    {
     "name": "stdout",
     "output_type": "stream",
     "text": [
      "-1\n"
     ]
    }
   ],
   "source": [
    "print(solution([2,3,4,5,6], 7, 0, 4))"
   ]
  },
  {
   "cell_type": "code",
   "execution_count": null,
   "metadata": {},
   "outputs": [],
   "source": []
  }
 ],
 "metadata": {
  "kernelspec": {
   "display_name": "Python 3.9.6 64-bit",
   "language": "python",
   "name": "python3"
  },
  "language_info": {
   "codemirror_mode": {
    "name": "ipython",
    "version": 3
   },
   "file_extension": ".py",
   "mimetype": "text/x-python",
   "name": "python",
   "nbconvert_exporter": "python",
   "pygments_lexer": "ipython3",
   "version": "3.9.6"
  },
  "orig_nbformat": 4,
  "vscode": {
   "interpreter": {
    "hash": "31f2aee4e71d21fbe5cf8b01ff0e069b9275f58929596ceb00d14d90e3e16cd6"
   }
  }
 },
 "nbformat": 4,
 "nbformat_minor": 2
}
