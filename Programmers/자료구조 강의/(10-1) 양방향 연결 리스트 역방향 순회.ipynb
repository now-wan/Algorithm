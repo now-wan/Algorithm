{
 "cells": [
  {
   "cell_type": "markdown",
   "metadata": {},
   "source": [
    "### 문제 설명\n",
    "제 10 강에서 소개된 추상적 자료구조 DoublyLinkedList 에 대하여, 또한 강의 내용에서 언급한 reverse() 메서드를 구현하세요.    \n",
    "\n",
    "이 reverse() 메서드는 양방향 연결 리스트를 끝에서부터 시작해서 맨 앞에 도달할 때까지 (tail 방향에서 head 방향으로) 순회하면서, 방문하게 되는 node 에 들어 있는 data item 을 순회 순서에 따라 리스트에 담아 리턴합니다.    \n",
    "\n",
    "예를 들어, DoublyLinkedList L 에 들어 있는 노드들이 43 -> 85 -> 62 라면, 올바른 리턴 값은 [62, 85, 43] 입니다.    \n",
    "\n",
    "이 규칙을 적용하면, 빈 연결 리스트에 대한 역방향 순회 결과로 reverse() 메서드라 리턴해야 할 올바른 결과는 [] 입니다."
   ]
  },
  {
   "cell_type": "code",
   "execution_count": 1,
   "metadata": {},
   "outputs": [],
   "source": [
    "class Node:\n",
    "\n",
    "    def __init__(self, item):\n",
    "        self.data = item\n",
    "        self.prev = None\n",
    "        self.next = None\n",
    "\n",
    "\n",
    "class DoublyLinkedList:\n",
    "\n",
    "    def __init__(self):\n",
    "        self.nodeCount = 0\n",
    "        self.head = Node(None)\n",
    "        self.tail = Node(None)\n",
    "        self.head.prev = None\n",
    "        self.head.next = self.tail\n",
    "        self.tail.prev = self.head\n",
    "        self.tail.next = None\n",
    "\n",
    "\n",
    "    def reverse(self):\n",
    "        result = []\n",
    "        curr = self.tail\n",
    "        while curr.prev.prev:\n",
    "            curr = curr.prev\n",
    "            result.append(curr.data)\n",
    "        return result\n",
    "\n",
    "\n",
    "    def getAt(self, pos):\n",
    "        if pos < 0 or pos > self.nodeCount:\n",
    "            return None\n",
    "\n",
    "        if pos > self.nodeCount // 2:\n",
    "            i = 0\n",
    "            curr = self.tail\n",
    "            while i < self.nodeCount - pos + 1:\n",
    "                curr = curr.prev\n",
    "                i += 1\n",
    "        else:\n",
    "            i = 0\n",
    "            curr = self.head\n",
    "            while i < pos:\n",
    "                curr = curr.next\n",
    "                i += 1\n",
    "\n",
    "        return curr\n",
    "\n",
    "\n",
    "    def insertAfter(self, prev, newNode):\n",
    "        next = prev.next\n",
    "        newNode.prev = prev\n",
    "        newNode.next = next\n",
    "        prev.next = newNode\n",
    "        next.prev = newNode\n",
    "        self.nodeCount += 1\n",
    "        return True\n",
    "\n",
    "\n",
    "    def insertAt(self, pos, newNode):\n",
    "        if pos < 1 or pos > self.nodeCount + 1:\n",
    "            return False\n",
    "\n",
    "        prev = self.getAt(pos - 1)\n",
    "        return self.insertAfter(prev, newNode)\n",
    "\n",
    "\n",
    "def solution(x):\n",
    "    return 0"
   ]
  },
  {
   "cell_type": "code",
   "execution_count": 3,
   "metadata": {},
   "outputs": [
    {
     "data": {
      "text/plain": [
       "[2, 24, 18, 3]"
      ]
     },
     "execution_count": 3,
     "metadata": {},
     "output_type": "execute_result"
    }
   ],
   "source": [
    "a = Node(3)\n",
    "b = Node(18)\n",
    "c = Node(24)\n",
    "d = Node(2)\n",
    "L = DoublyLinkedList()\n",
    "L.insertAt(1, a)\n",
    "L.insertAt(2, b)\n",
    "L.insertAt(3, c)\n",
    "L.insertAt(4, d)\n",
    "L.reverse()"
   ]
  }
 ],
 "metadata": {
  "kernelspec": {
   "display_name": "Python 3.9.6 64-bit",
   "language": "python",
   "name": "python3"
  },
  "language_info": {
   "codemirror_mode": {
    "name": "ipython",
    "version": 3
   },
   "file_extension": ".py",
   "mimetype": "text/x-python",
   "name": "python",
   "nbconvert_exporter": "python",
   "pygments_lexer": "ipython3",
   "version": "3.9.6"
  },
  "orig_nbformat": 4,
  "vscode": {
   "interpreter": {
    "hash": "31f2aee4e71d21fbe5cf8b01ff0e069b9275f58929596ceb00d14d90e3e16cd6"
   }
  }
 },
 "nbformat": 4,
 "nbformat_minor": 2
}
