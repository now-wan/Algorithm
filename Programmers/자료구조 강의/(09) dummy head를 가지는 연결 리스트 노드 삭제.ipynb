{
 "cells": [
  {
   "cell_type": "markdown",
   "metadata": {},
   "source": [
    "### 문제 설명\n",
    "제 9 강에서 소개된 추상적 자료구조 LinkedList 는 dummy head node 를 가지는 연결 리스트입니다. 이 클래스의 아래와 같은 메서드들을, 강의 내용에 소개된 요구조건을 만족시키도록 구현하세요.    \n",
    "\n",
    "popAfter()    \n",
    "popAt()    \n",
    "\n",
    "이 때, popAt() 메서드의 구현에서는 popAfter() 를 호출하여 이용하도록 합니다. (그렇게 하지 않을 수도 있지만, 여기에서는 popAfter() 의 이용에 의해서 코드 구현이 보다 쉬워지는 것을 확인하기 위함입니다.)    \n",
    "\n",
    "초기 코드로 들어 있는 것은 solution() 함수를 포함하여 다른 부분은 수정하지 말고, def popAfter(self, prev): 와 def popAt(self, pos): 의 메서드 몸체만 구현하세요.    \n",
    "\n",
    "만약, popAt() 메서드에 인자로 주어진 pos 가 올바른 범위의 값을 가지지 않는 경우에는 IndexError exception 을 발생시키도록 합니다. 이렇게 하기 위한 코드는 raise IndexError 입니다."
   ]
  },
  {
   "cell_type": "code",
   "execution_count": 86,
   "metadata": {},
   "outputs": [],
   "source": [
    "class Node:\n",
    "\n",
    "    def __init__(self, item):\n",
    "        self.data = item\n",
    "        self.next = None\n",
    "\n",
    "\n",
    "class LinkedList:\n",
    "\n",
    "    def __init__(self):\n",
    "        self.nodeCount = 0\n",
    "        self.head = Node(None)\n",
    "        self.tail = None\n",
    "        self.head.next = self.tail\n",
    "\n",
    "\n",
    "    def traverse(self):\n",
    "        result = []\n",
    "        curr = self.head\n",
    "        while curr.next:\n",
    "            curr = curr.next\n",
    "            result.append(curr.data)\n",
    "        return result\n",
    "\n",
    "\n",
    "    def getAt(self, pos):\n",
    "        if pos < 0 or pos > self.nodeCount:\n",
    "            return None\n",
    "\n",
    "        i = 0\n",
    "        curr = self.head\n",
    "        while i < pos:\n",
    "            curr = curr.next\n",
    "            i += 1\n",
    "\n",
    "        return curr\n",
    "\n",
    "\n",
    "    def insertAfter(self, prev, newNode):\n",
    "        newNode.next = prev.next\n",
    "        if prev.next is None:\n",
    "            self.tail = newNode\n",
    "        prev.next = newNode\n",
    "        self.nodeCount += 1\n",
    "        return True\n",
    "\n",
    "\n",
    "    def insertAt(self, pos, newNode):\n",
    "        if pos < 1 or pos > self.nodeCount + 1:\n",
    "            return False\n",
    "\n",
    "        if pos != 1 and pos == self.nodeCount + 1:\n",
    "            prev = self.tail\n",
    "        else:\n",
    "            prev = self.getAt(pos - 1)\n",
    "        return self.insertAfter(prev, newNode)\n",
    "\n",
    "\n",
    "    def popAfter(self, prev):\n",
    "        curr = prev.next\n",
    "        prev.next = curr.next\n",
    "        if prev.next is None:\n",
    "            if self.nodeCount == 1:\n",
    "                self.tail = None\n",
    "            else: self.tail = prev\n",
    "        self.nodeCount -= 1\n",
    "        return curr.data\n",
    "\n",
    "\n",
    "    def popAt(self, pos):\n",
    "        if pos < 1 or pos > self.nodeCount:\n",
    "            raise IndexError\n",
    "        if pos == 1:\n",
    "            prev = self.head\n",
    "        else:\n",
    "            prev = self.getAt(pos - 1)\n",
    "        return self.popAfter(prev)\n",
    "\n",
    "\n",
    "def solution(x):\n",
    "    return 0"
   ]
  },
  {
   "cell_type": "code",
   "execution_count": 87,
   "metadata": {},
   "outputs": [
    {
     "data": {
      "text/plain": [
       "13"
      ]
     },
     "execution_count": 87,
     "metadata": {},
     "output_type": "execute_result"
    }
   ],
   "source": [
    "a = Node(13)\n",
    "b = Node(12)\n",
    "c = Node(25)\n",
    "d = Node(98)\n",
    "L = LinkedList()\n",
    "L.insertAt(1,a)\n",
    "#L.insertAt(2,b)\n",
    "#L.insertAt(3,c)\n",
    "#L.insertAt(4,d)\n",
    "L.popAt(1)"
   ]
  },
  {
   "cell_type": "code",
   "execution_count": 88,
   "metadata": {},
   "outputs": [
    {
     "data": {
      "text/plain": [
       "[]"
      ]
     },
     "execution_count": 88,
     "metadata": {},
     "output_type": "execute_result"
    }
   ],
   "source": [
    "L.traverse()"
   ]
  },
  {
   "cell_type": "code",
   "execution_count": 89,
   "metadata": {},
   "outputs": [
    {
     "data": {
      "text/plain": [
       "0"
      ]
     },
     "execution_count": 89,
     "metadata": {},
     "output_type": "execute_result"
    }
   ],
   "source": [
    "L.nodeCount"
   ]
  },
  {
   "cell_type": "code",
   "execution_count": 90,
   "metadata": {},
   "outputs": [
    {
     "data": {
      "text/plain": [
       "True"
      ]
     },
     "execution_count": 90,
     "metadata": {},
     "output_type": "execute_result"
    }
   ],
   "source": [
    "L.tail is None"
   ]
  },
  {
   "cell_type": "code",
   "execution_count": 91,
   "metadata": {},
   "outputs": [],
   "source": [
    "L.head.next"
   ]
  },
  {
   "cell_type": "code",
   "execution_count": null,
   "metadata": {},
   "outputs": [],
   "source": []
  }
 ],
 "metadata": {
  "kernelspec": {
   "display_name": "Python 3.9.6 64-bit",
   "language": "python",
   "name": "python3"
  },
  "language_info": {
   "codemirror_mode": {
    "name": "ipython",
    "version": 3
   },
   "file_extension": ".py",
   "mimetype": "text/x-python",
   "name": "python",
   "nbconvert_exporter": "python",
   "pygments_lexer": "ipython3",
   "version": "3.9.6"
  },
  "orig_nbformat": 4,
  "vscode": {
   "interpreter": {
    "hash": "31f2aee4e71d21fbe5cf8b01ff0e069b9275f58929596ceb00d14d90e3e16cd6"
   }
  }
 },
 "nbformat": 4,
 "nbformat_minor": 2
}
